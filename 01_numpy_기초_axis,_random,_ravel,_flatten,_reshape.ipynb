{
  "nbformat": 4,
  "nbformat_minor": 0,
  "metadata": {
    "colab": {
      "provenance": [],
      "toc_visible": true,
      "include_colab_link": true
    },
    "kernelspec": {
      "name": "python3",
      "display_name": "Python 3"
    },
    "language_info": {
      "name": "python"
    }
  },
  "cells": [
    {
      "cell_type": "markdown",
      "metadata": {
        "id": "view-in-github",
        "colab_type": "text"
      },
      "source": [
        "<a href=\"https://colab.research.google.com/github/leesolhahaha/Data_Analysis_with_Python/blob/main/01_numpy_%EA%B8%B0%EC%B4%88_axis%2C_random%2C_ravel%2C_flatten%2C_reshape.ipynb\" target=\"_parent\"><img src=\"https://colab.research.google.com/assets/colab-badge.svg\" alt=\"Open In Colab\"/></a>"
      ]
    },
    {
      "cell_type": "code",
      "execution_count": null,
      "metadata": {
        "id": "7Q2b3yKbiUVI"
      },
      "outputs": [],
      "source": [
        "# numpy 모듈 불러오기\n",
        "import numpy as np"
      ]
    },
    {
      "cell_type": "markdown",
      "source": [
        "* numpy는 기본적으로 C언어로 구현되어 있습니다. - 속도가 빠르다.\n",
        "* 수치 연산에 관련된 방대한 라이브러리가 존재. ( with scipy )\n",
        "* 일반 파이썬을 이용한 수치 연산보다 훨씬 빠르다.\n",
        "* 특히 배열 병렬 연산에 특화 되어 있다."
      ],
      "metadata": {
        "id": "HLNfhyqPiagS"
      }
    },
    {
      "cell_type": "markdown",
      "source": [
        "# 1. numpy의 배열을 ndarray\n",
        "- `ndarray` : 넘파이에서 사용하는 자료구조 형태"
      ],
      "metadata": {
        "id": "C66zNZDzjFVl"
      }
    },
    {
      "cell_type": "code",
      "source": [
        "# 1. python의 list를 ndarray로 만들기\n",
        "py_list = [1, 2, 3]\n",
        "\n",
        "arr1 = np.array(py_list) # np.array : 파이썬의 리스트를 ndarray화\n",
        "arr1"
      ],
      "metadata": {
        "colab": {
          "base_uri": "https://localhost:8080/"
        },
        "id": "w8qk4jKujweC",
        "outputId": "879f43fb-a451-4431-f2f7-e8e2d2a543f0"
      },
      "execution_count": null,
      "outputs": [
        {
          "output_type": "execute_result",
          "data": {
            "text/plain": [
              "array([1, 2, 3])"
            ]
          },
          "metadata": {},
          "execution_count": 2
        }
      ]
    },
    {
      "cell_type": "code",
      "source": [
        "type(arr1)"
      ],
      "metadata": {
        "colab": {
          "base_uri": "https://localhost:8080/"
        },
        "id": "2gUPL_RCkS9s",
        "outputId": "0e98a941-4d2a-4966-b807-8109eb0c040c"
      },
      "execution_count": null,
      "outputs": [
        {
          "output_type": "execute_result",
          "data": {
            "text/plain": [
              "numpy.ndarray"
            ]
          },
          "metadata": {},
          "execution_count": 3
        }
      ]
    },
    {
      "cell_type": "code",
      "source": [
        "arr1[0]"
      ],
      "metadata": {
        "colab": {
          "base_uri": "https://localhost:8080/"
        },
        "id": "QIfPL6QckkXr",
        "outputId": "3e7f1518-f1fa-40c4-8f48-4eaab75672e5"
      },
      "execution_count": null,
      "outputs": [
        {
          "output_type": "execute_result",
          "data": {
            "text/plain": [
              "1"
            ]
          },
          "metadata": {},
          "execution_count": 4
        }
      ]
    },
    {
      "cell_type": "code",
      "source": [
        "arr1[-1]"
      ],
      "metadata": {
        "colab": {
          "base_uri": "https://localhost:8080/"
        },
        "id": "ig0H-xGsksHM",
        "outputId": "d1f93f39-b057-4fe6-edd5-5920484dc153"
      },
      "execution_count": null,
      "outputs": [
        {
          "output_type": "execute_result",
          "data": {
            "text/plain": [
              "3"
            ]
          },
          "metadata": {},
          "execution_count": 5
        }
      ]
    },
    {
      "cell_type": "markdown",
      "source": [
        "## 배열의 종류\n",
        "1. 스칼라(scalar)\n",
        "  * 0차원 데이터\n",
        "  * 측정한 하나의 값\n",
        "    - ```python\n",
        "        height = 180.1\n",
        "        age = 34\n",
        "        weight = 80.5\n",
        "      ```\n",
        "2. 벡터(vector)\n",
        "  * 1차원 배열\n",
        "  * **스칼라가 연속적으로 모여있는 것**\n",
        "  * 3명의 키를 하나의 배열로 모을 수 있겠죠?\n",
        "    * ```python\n",
        "        person_heights = [180.1, 173.5, 177.8] # 3차원 벡터\n",
        "      ```\n",
        "  * 벡터 내에 데이터가 `N`개가 있으면 `N 차원 벡터`라고 한다.\n",
        "    - 수학적인 표현\n",
        "3. 행렬(matrix)\n",
        "  * 2차원 배열\n",
        "  * 1차원 배열인 벡터가 여러 개 모여있는 것.\n",
        "    * ```python\n",
        "      person_info = [[180.1, 33, 80.5],\n",
        "                      [175.1, 32, 77.3]]\n",
        "    ```\n",
        "4. 텐서(tensor)\n",
        "  * 3차원 이상의 배열을 의미한다.\n",
        "  * 3차원 배열은 2차원 배열이 모여있는 것\n",
        "  * 4차원 배열은 3차원 배열이 모여있는 것\n",
        "  * `N차원 배열`을 그냥 텐서라고 한다. (`N`이 꼭 3부터는 아님..)\n",
        "  * 텐서의 개념을 활용하면 모든 배열의 모양을 이야기 할 수 있다.\n",
        "    - `0 Rank Tensor` - 스칼라\n",
        "    - `1 Rank Tensor` - 벡터\n",
        "    - `2 Rank Tensor` - 행렬\n",
        "    - `3 Rank Tensor` - 3 Rank Tensor...\n",
        "  * Tensorflow는 뭘까요..?\n",
        "    - 구글에서 제공하는 딥러닝 프레임워크\n",
        "    - 미리 준비된 네트워크에 Tensor를 흘린다(flow)\n",
        "\n"
      ],
      "metadata": {
        "id": "AzXiwNdSkyQE"
      }
    },
    {
      "cell_type": "markdown",
      "source": [
        "# numpy 함수 알아보기"
      ],
      "metadata": {
        "id": "GBiHduSwk7MW"
      }
    },
    {
      "cell_type": "code",
      "source": [
        "# np.arange - 파이썬의 range와 매우 흡사\n",
        "np.arange(10)"
      ],
      "metadata": {
        "colab": {
          "base_uri": "https://localhost:8080/"
        },
        "id": "hA1DjwL4x6w9",
        "outputId": "586f9cd0-f827-4eee-a5a3-681f662f6e19"
      },
      "execution_count": null,
      "outputs": [
        {
          "output_type": "execute_result",
          "data": {
            "text/plain": [
              "array([0, 1, 2, 3, 4, 5, 6, 7, 8, 9])"
            ]
          },
          "metadata": {},
          "execution_count": 6
        }
      ]
    },
    {
      "cell_type": "code",
      "source": [
        "np.arange(10, 1, -2)"
      ],
      "metadata": {
        "colab": {
          "base_uri": "https://localhost:8080/"
        },
        "id": "oT1_4tSsyUrn",
        "outputId": "9433ba8b-ba06-4103-d6e3-e4b0ca7930d2"
      },
      "execution_count": null,
      "outputs": [
        {
          "output_type": "execute_result",
          "data": {
            "text/plain": [
              "array([10,  8,  6,  4,  2])"
            ]
          },
          "metadata": {},
          "execution_count": 24
        }
      ]
    },
    {
      "cell_type": "code",
      "source": [
        "# np.zeros -> 0으로 채워진 배열을 만들 때 사용\n",
        "np.zeros(5)"
      ],
      "metadata": {
        "colab": {
          "base_uri": "https://localhost:8080/"
        },
        "id": "VcmgQm_cydW1",
        "outputId": "5029df4c-30b7-4c8d-dba1-aa78466b7f2b"
      },
      "execution_count": null,
      "outputs": [
        {
          "output_type": "execute_result",
          "data": {
            "text/plain": [
              "array([0., 0., 0., 0., 0.])"
            ]
          },
          "metadata": {},
          "execution_count": 8
        }
      ]
    },
    {
      "cell_type": "code",
      "source": [
        "# ,가 추가 될 때마다 차원이 확장이 됨"
      ],
      "metadata": {
        "id": "1BIRXX5UHuW5"
      },
      "execution_count": null,
      "outputs": []
    },
    {
      "cell_type": "code",
      "source": [
        "# np.zeros에 형상정보(shape)을 입력해 배열 생성 가능!\n",
        "# shpae을 할 떄는 () 튜플 형태로 만들어주면 됨\n",
        "np.zeros((2, 3))"
      ],
      "metadata": {
        "colab": {
          "base_uri": "https://localhost:8080/"
        },
        "id": "rBM804S2yuGw",
        "outputId": "980a5445-0afe-4180-85f9-bd8920befa7c"
      },
      "execution_count": null,
      "outputs": [
        {
          "output_type": "execute_result",
          "data": {
            "text/plain": [
              "array([[0., 0., 0.],\n",
              "       [0., 0., 0.]])"
            ]
          },
          "metadata": {},
          "execution_count": 9
        }
      ]
    },
    {
      "cell_type": "code",
      "source": [
        "# 2차원 배열을 만들기 위해서는 1차원 배열의 개수가 필요함\n",
        "# 1차원 배열의 개수를 만들기 위해서는 0차원 스칼라의 개수가 필요함"
      ],
      "metadata": {
        "id": "e5AmWWXUHxYZ"
      },
      "execution_count": null,
      "outputs": []
    },
    {
      "cell_type": "code",
      "source": [
        "np.zeros((3,5,4)) # 3차원 배열을 만들기 위해서는 위의 법칙을 따라가면 됨\n",
        "# 2차원 배열이 3개 1차원 배열이 5개 각각의 1차원 배열 안쪽에 스칼라가 4개 있는 거 3차원 배열이 만들어짐"
      ],
      "metadata": {
        "colab": {
          "base_uri": "https://localhost:8080/"
        },
        "id": "umsH1uWxzQk5",
        "outputId": "042f9e9e-847f-41ab-e98c-598124273e91"
      },
      "execution_count": null,
      "outputs": [
        {
          "output_type": "execute_result",
          "data": {
            "text/plain": [
              "array([[[0., 0., 0., 0.],\n",
              "        [0., 0., 0., 0.],\n",
              "        [0., 0., 0., 0.],\n",
              "        [0., 0., 0., 0.],\n",
              "        [0., 0., 0., 0.]],\n",
              "\n",
              "       [[0., 0., 0., 0.],\n",
              "        [0., 0., 0., 0.],\n",
              "        [0., 0., 0., 0.],\n",
              "        [0., 0., 0., 0.],\n",
              "        [0., 0., 0., 0.]],\n",
              "\n",
              "       [[0., 0., 0., 0.],\n",
              "        [0., 0., 0., 0.],\n",
              "        [0., 0., 0., 0.],\n",
              "        [0., 0., 0., 0.],\n",
              "        [0., 0., 0., 0.]]])"
            ]
          },
          "metadata": {},
          "execution_count": 10
        }
      ]
    },
    {
      "cell_type": "code",
      "source": [
        "np.zeros((3, 4, 5, 2)) # 4차원 배열"
      ],
      "metadata": {
        "colab": {
          "base_uri": "https://localhost:8080/"
        },
        "id": "-mIGFkIS0EVn",
        "outputId": "35ed8447-a269-46d0-e987-c670c82d51c7"
      },
      "execution_count": null,
      "outputs": [
        {
          "output_type": "execute_result",
          "data": {
            "text/plain": [
              "array([[[[0., 0.],\n",
              "         [0., 0.],\n",
              "         [0., 0.],\n",
              "         [0., 0.],\n",
              "         [0., 0.]],\n",
              "\n",
              "        [[0., 0.],\n",
              "         [0., 0.],\n",
              "         [0., 0.],\n",
              "         [0., 0.],\n",
              "         [0., 0.]],\n",
              "\n",
              "        [[0., 0.],\n",
              "         [0., 0.],\n",
              "         [0., 0.],\n",
              "         [0., 0.],\n",
              "         [0., 0.]],\n",
              "\n",
              "        [[0., 0.],\n",
              "         [0., 0.],\n",
              "         [0., 0.],\n",
              "         [0., 0.],\n",
              "         [0., 0.]]],\n",
              "\n",
              "\n",
              "       [[[0., 0.],\n",
              "         [0., 0.],\n",
              "         [0., 0.],\n",
              "         [0., 0.],\n",
              "         [0., 0.]],\n",
              "\n",
              "        [[0., 0.],\n",
              "         [0., 0.],\n",
              "         [0., 0.],\n",
              "         [0., 0.],\n",
              "         [0., 0.]],\n",
              "\n",
              "        [[0., 0.],\n",
              "         [0., 0.],\n",
              "         [0., 0.],\n",
              "         [0., 0.],\n",
              "         [0., 0.]],\n",
              "\n",
              "        [[0., 0.],\n",
              "         [0., 0.],\n",
              "         [0., 0.],\n",
              "         [0., 0.],\n",
              "         [0., 0.]]],\n",
              "\n",
              "\n",
              "       [[[0., 0.],\n",
              "         [0., 0.],\n",
              "         [0., 0.],\n",
              "         [0., 0.],\n",
              "         [0., 0.]],\n",
              "\n",
              "        [[0., 0.],\n",
              "         [0., 0.],\n",
              "         [0., 0.],\n",
              "         [0., 0.],\n",
              "         [0., 0.]],\n",
              "\n",
              "        [[0., 0.],\n",
              "         [0., 0.],\n",
              "         [0., 0.],\n",
              "         [0., 0.],\n",
              "         [0., 0.]],\n",
              "\n",
              "        [[0., 0.],\n",
              "         [0., 0.],\n",
              "         [0., 0.],\n",
              "         [0., 0.],\n",
              "         [0., 0.]]]])"
            ]
          },
          "metadata": {},
          "execution_count": 11
        }
      ]
    },
    {
      "cell_type": "code",
      "source": [
        "# np.zeros((5)) # 이렇게 한다고 튜플로 만들어지는 것이 아님\n",
        "np.zeros((5,)) # 이렇게 해야 튜플의 형태로 만들어짐\n",
        "(5) !=(5, )"
      ],
      "metadata": {
        "colab": {
          "base_uri": "https://localhost:8080/"
        },
        "id": "yQJPlcDC0r_c",
        "outputId": "489877ab-0a15-4cca-bee8-855ecffeae5d"
      },
      "execution_count": null,
      "outputs": [
        {
          "output_type": "execute_result",
          "data": {
            "text/plain": [
              "True"
            ]
          },
          "metadata": {},
          "execution_count": 12
        }
      ]
    },
    {
      "cell_type": "code",
      "source": [
        "# np.ones : 1로 채워진 배열 만들기\n",
        "np.ones(5)"
      ],
      "metadata": {
        "colab": {
          "base_uri": "https://localhost:8080/"
        },
        "id": "IvuqO-bM1N7p",
        "outputId": "a9319849-6407-47c6-f6b3-95854c5e65ce"
      },
      "execution_count": null,
      "outputs": [
        {
          "output_type": "execute_result",
          "data": {
            "text/plain": [
              "array([1., 1., 1., 1., 1.])"
            ]
          },
          "metadata": {},
          "execution_count": 13
        }
      ]
    },
    {
      "cell_type": "code",
      "source": [
        "np.ones(3) * 3 # 원하는 숫자로 채워진 배열을 얻기위해서는 *를 사용해도 됨"
      ],
      "metadata": {
        "colab": {
          "base_uri": "https://localhost:8080/"
        },
        "id": "8UIvhOjL1YMG",
        "outputId": "c5b9da5c-da0b-43bd-f35f-2776b1faafda"
      },
      "execution_count": null,
      "outputs": [
        {
          "output_type": "execute_result",
          "data": {
            "text/plain": [
              "array([3., 3., 3.])"
            ]
          },
          "metadata": {},
          "execution_count": 27
        }
      ]
    },
    {
      "cell_type": "code",
      "source": [
        "np.full((2, 3), 7) # full을 사용하면 앞쪽에는 shape이 들어가고 뒤에는 지정한 숫자가 들어가게 됨"
      ],
      "metadata": {
        "colab": {
          "base_uri": "https://localhost:8080/"
        },
        "id": "zs-l2Mg71m9n",
        "outputId": "7ff6dedd-5ddf-4410-b4c6-cb9dc36be865"
      },
      "execution_count": null,
      "outputs": [
        {
          "output_type": "execute_result",
          "data": {
            "text/plain": [
              "array([[7, 7, 7],\n",
              "       [7, 7, 7]])"
            ]
          },
          "metadata": {},
          "execution_count": 15
        }
      ]
    },
    {
      "cell_type": "code",
      "source": [
        "# np.linspace -> 점구간 만들기( 사잇값 만들기 )\n",
        "np.linspace(1, 10, 3) # 1 ~ 10 까지 3개의 숫자를 균등한 구간으로 만든다. -> 2개의 구간"
      ],
      "metadata": {
        "colab": {
          "base_uri": "https://localhost:8080/"
        },
        "id": "DXN3U7K71wJA",
        "outputId": "4bde7856-26de-4f3c-c6fe-0b73fd9d4b42"
      },
      "execution_count": null,
      "outputs": [
        {
          "output_type": "execute_result",
          "data": {
            "text/plain": [
              "array([ 1. ,  5.5, 10. ])"
            ]
          },
          "metadata": {},
          "execution_count": 16
        }
      ]
    },
    {
      "cell_type": "code",
      "source": [
        "np.linspace(1, 10, 4)"
      ],
      "metadata": {
        "colab": {
          "base_uri": "https://localhost:8080/"
        },
        "id": "Sgugak142OKn",
        "outputId": "b6f6f9e2-2dcf-4d21-f850-db3edcfc2a52"
      },
      "execution_count": null,
      "outputs": [
        {
          "output_type": "execute_result",
          "data": {
            "text/plain": [
              "array([ 1.,  4.,  7., 10.])"
            ]
          },
          "metadata": {},
          "execution_count": 17
        }
      ]
    },
    {
      "cell_type": "code",
      "source": [
        "np.linspace(1, 10, 5)"
      ],
      "metadata": {
        "colab": {
          "base_uri": "https://localhost:8080/"
        },
        "id": "xQo_ojHH2lP4",
        "outputId": "f712406c-c431-46a7-e2ae-2f029c7dbf44"
      },
      "execution_count": null,
      "outputs": [
        {
          "output_type": "execute_result",
          "data": {
            "text/plain": [
              "array([ 1.  ,  3.25,  5.5 ,  7.75, 10.  ])"
            ]
          },
          "metadata": {},
          "execution_count": 18
        }
      ]
    },
    {
      "cell_type": "markdown",
      "source": [
        "# Random"
      ],
      "metadata": {
        "id": "KGc_jAbL2uGD"
      }
    },
    {
      "cell_type": "code",
      "source": [
        "# np.random.rand : 완전 랜덤 만들기\n",
        "np.random.rand(2, 3)"
      ],
      "metadata": {
        "colab": {
          "base_uri": "https://localhost:8080/"
        },
        "id": "YpW0E-1L261c",
        "outputId": "e67c230b-293f-42f5-9a73-a53253aa9789"
      },
      "execution_count": null,
      "outputs": [
        {
          "output_type": "execute_result",
          "data": {
            "text/plain": [
              "array([[0.31380265, 0.16406678, 0.31920576],\n",
              "       [0.93274703, 0.56826418, 0.9882754 ]])"
            ]
          },
          "metadata": {},
          "execution_count": 19
        }
      ]
    },
    {
      "cell_type": "code",
      "source": [
        "np.random.rand(3, 2, 4)"
      ],
      "metadata": {
        "colab": {
          "base_uri": "https://localhost:8080/"
        },
        "id": "EwiHLMNj3Qaq",
        "outputId": "c497ef5c-6c0c-4444-eab5-427d008c7d42"
      },
      "execution_count": null,
      "outputs": [
        {
          "output_type": "execute_result",
          "data": {
            "text/plain": [
              "array([[[0.86809469, 0.37898743, 0.22990623, 0.18123415],\n",
              "        [0.57235323, 0.21381718, 0.33136243, 0.25310078]],\n",
              "\n",
              "       [[0.44560489, 0.3845212 , 0.23149466, 0.34641726],\n",
              "        [0.13285808, 0.97695854, 0.3292979 , 0.51069003]],\n",
              "\n",
              "       [[0.78584941, 0.11408093, 0.35379099, 0.25593432],\n",
              "        [0.77740157, 0.72785216, 0.68155069, 0.76546763]]])"
            ]
          },
          "metadata": {},
          "execution_count": 20
        }
      ]
    },
    {
      "cell_type": "code",
      "source": [
        "# np.random.randn -> 정규 분포 랜덤 만들기\n",
        "np.random.randn(16)"
      ],
      "metadata": {
        "colab": {
          "base_uri": "https://localhost:8080/"
        },
        "id": "Fp-yYwhO3a8D",
        "outputId": "ee80a0ae-6734-497c-f030-225e0fc06c28"
      },
      "execution_count": null,
      "outputs": [
        {
          "output_type": "execute_result",
          "data": {
            "text/plain": [
              "array([-1.14657225, -0.73523068, -0.98445916,  1.29067274,  0.11230006,\n",
              "       -0.00906248, -0.41430838,  0.76249812,  1.88830303,  0.24348812,\n",
              "        0.62108732, -1.36141067, -0.16513417,  1.30775251,  0.485886  ,\n",
              "       -1.44248188])"
            ]
          },
          "metadata": {},
          "execution_count": 21
        }
      ]
    },
    {
      "cell_type": "code",
      "source": [
        "# np.random.uniform -> 균등 분포 랜덤 만들기\n",
        "np.random.uniform(1.0, 3.0, size=(4, 5))"
      ],
      "metadata": {
        "colab": {
          "base_uri": "https://localhost:8080/"
        },
        "id": "GDcImY5g3_fq",
        "outputId": "911cd87c-80db-43a2-823d-6f4a91772514"
      },
      "execution_count": null,
      "outputs": [
        {
          "output_type": "execute_result",
          "data": {
            "text/plain": [
              "array([[2.1536225 , 1.34012763, 1.85264744, 1.88214646, 1.24111395],\n",
              "       [2.57628264, 1.26768877, 2.26052384, 2.57024984, 2.21051857],\n",
              "       [1.32335624, 2.30983307, 1.37619917, 2.18897431, 1.40772919],\n",
              "       [1.20775166, 1.49887935, 1.03695693, 1.32132569, 2.48959804]])"
            ]
          },
          "metadata": {},
          "execution_count": 22
        }
      ]
    },
    {
      "cell_type": "code",
      "source": [
        "# np.random.choice -> 정수 랜덤 샘플링 (모집단을 추출하는 것을 샘플링)\n",
        "np.random.choice(10, size=(2, 3)) # 0 ~ 9 사이의 정수를 랜덤하게 (2, 3)형태의 배열로 추출"
      ],
      "metadata": {
        "colab": {
          "base_uri": "https://localhost:8080/"
        },
        "id": "ApgBBaic4k6D",
        "outputId": "f739dfaf-467d-4fdb-ca61-a6eb869829e2"
      },
      "execution_count": null,
      "outputs": [
        {
          "output_type": "execute_result",
          "data": {
            "text/plain": [
              "array([[3, 0, 6],\n",
              "       [6, 0, 1]])"
            ]
          },
          "metadata": {},
          "execution_count": 28
        }
      ]
    },
    {
      "cell_type": "code",
      "source": [
        "np.random.choice(10, size=(10, 10)) # 보건 추출 중복된 값이 나와도 됨"
      ],
      "metadata": {
        "colab": {
          "base_uri": "https://localhost:8080/"
        },
        "id": "V59qPOgL6-YJ",
        "outputId": "8982117d-51d0-4ef8-e117-76a4c23462e7"
      },
      "execution_count": null,
      "outputs": [
        {
          "output_type": "execute_result",
          "data": {
            "text/plain": [
              "array([[0, 4, 4, 9, 7, 0, 4, 6, 2, 6],\n",
              "       [6, 2, 5, 6, 9, 5, 8, 7, 9, 4],\n",
              "       [0, 7, 9, 8, 3, 9, 3, 6, 8, 3],\n",
              "       [9, 1, 6, 4, 1, 1, 2, 6, 8, 8],\n",
              "       [9, 1, 6, 6, 6, 0, 9, 5, 2, 9],\n",
              "       [3, 1, 7, 1, 1, 1, 3, 9, 1, 5],\n",
              "       [8, 8, 0, 8, 2, 0, 2, 8, 4, 8],\n",
              "       [4, 0, 0, 4, 1, 6, 7, 1, 2, 6],\n",
              "       [1, 2, 7, 8, 5, 3, 9, 0, 6, 9],\n",
              "       [0, 7, 7, 3, 3, 7, 0, 9, 5, 0]])"
            ]
          },
          "metadata": {},
          "execution_count": 29
        }
      ]
    },
    {
      "cell_type": "code",
      "source": [
        "np.random.choice(10, size=(2, 3), replace=False) # replace=False 을 사용하면 보건 추출을 하지 않게 됨"
      ],
      "metadata": {
        "colab": {
          "base_uri": "https://localhost:8080/"
        },
        "id": "yKH_lUxI86sD",
        "outputId": "d9b8a447-d0e9-4680-8ab4-fb61181e0da2"
      },
      "execution_count": null,
      "outputs": [
        {
          "output_type": "execute_result",
          "data": {
            "text/plain": [
              "array([[3, 4, 5],\n",
              "       [6, 0, 1]])"
            ]
          },
          "metadata": {},
          "execution_count": 30
        }
      ]
    },
    {
      "cell_type": "code",
      "source": [
        "np.random.choice(10, size=(10, 10), replace=False) # 보건추출이 아니기 때문에 10,10으로 뽑을 수가 없어서 에러가 나옴"
      ],
      "metadata": {
        "colab": {
          "base_uri": "https://localhost:8080/",
          "height": 181
        },
        "id": "ZvmBZJ1k9Q7I",
        "outputId": "e72a6577-7aa2-4403-dc60-a08e07fef03f"
      },
      "execution_count": null,
      "outputs": [
        {
          "output_type": "error",
          "ename": "ValueError",
          "evalue": "Cannot take a larger sample than population when 'replace=False'",
          "traceback": [
            "\u001b[0;31m---------------------------------------------------------------------------\u001b[0m",
            "\u001b[0;31mValueError\u001b[0m                                Traceback (most recent call last)",
            "\u001b[0;32m<ipython-input-31-5ba7e43333bc>\u001b[0m in \u001b[0;36m<cell line: 1>\u001b[0;34m()\u001b[0m\n\u001b[0;32m----> 1\u001b[0;31m \u001b[0mnp\u001b[0m\u001b[0;34m.\u001b[0m\u001b[0mrandom\u001b[0m\u001b[0;34m.\u001b[0m\u001b[0mchoice\u001b[0m\u001b[0;34m(\u001b[0m\u001b[0;36m10\u001b[0m\u001b[0;34m,\u001b[0m \u001b[0msize\u001b[0m\u001b[0;34m=\u001b[0m\u001b[0;34m(\u001b[0m\u001b[0;36m10\u001b[0m\u001b[0;34m,\u001b[0m \u001b[0;36m10\u001b[0m\u001b[0;34m)\u001b[0m\u001b[0;34m,\u001b[0m \u001b[0mreplace\u001b[0m\u001b[0;34m=\u001b[0m\u001b[0;32mFalse\u001b[0m\u001b[0;34m)\u001b[0m\u001b[0;34m\u001b[0m\u001b[0;34m\u001b[0m\u001b[0m\n\u001b[0m",
            "\u001b[0;32mnumpy/random/mtrand.pyx\u001b[0m in \u001b[0;36mnumpy.random.mtrand.RandomState.choice\u001b[0;34m()\u001b[0m\n",
            "\u001b[0;31mValueError\u001b[0m: Cannot take a larger sample than population when 'replace=False'"
          ]
        }
      ]
    },
    {
      "cell_type": "code",
      "source": [
        "# 정수 랜덤 배열 만들기\n",
        "np.random.randint(10, 100, size=5) # 열백터로 판단하지만 우리가 볼 때는 행 백터로 보임"
      ],
      "metadata": {
        "colab": {
          "base_uri": "https://localhost:8080/"
        },
        "id": "LJhmOufO9ZG6",
        "outputId": "1ca63262-54ed-41d6-833f-377c66c88c5d"
      },
      "execution_count": null,
      "outputs": [
        {
          "output_type": "execute_result",
          "data": {
            "text/plain": [
              "array([64, 67, 19, 29, 11])"
            ]
          },
          "metadata": {},
          "execution_count": 32
        }
      ]
    },
    {
      "cell_type": "code",
      "source": [
        "np.random.randint(10, 100, size=(3, 4))"
      ],
      "metadata": {
        "colab": {
          "base_uri": "https://localhost:8080/"
        },
        "id": "YGnAgLW09pyp",
        "outputId": "2ab0b0ed-98a1-4594-a7d8-769b958e2cbd"
      },
      "execution_count": null,
      "outputs": [
        {
          "output_type": "execute_result",
          "data": {
            "text/plain": [
              "array([[24, 45, 97, 48],\n",
              "       [28, 80, 98, 46],\n",
              "       [29, 93, 61, 93]])"
            ]
          },
          "metadata": {},
          "execution_count": 33
        }
      ]
    },
    {
      "cell_type": "code",
      "source": [
        "# 랜덤 정수 데이터가 5개 있는 열 벡터와, 행 벡터를 만들어 보세요.\n",
        "\n",
        "np.random.randint(10, 100, size=(5, 1)) # 실제로는 열백터로 취급"
      ],
      "metadata": {
        "colab": {
          "base_uri": "https://localhost:8080/"
        },
        "id": "147ycqM292wk",
        "outputId": "f5174554-5051-45b0-bcde-419d6b90e471"
      },
      "execution_count": null,
      "outputs": [
        {
          "output_type": "execute_result",
          "data": {
            "text/plain": [
              "array([[34],\n",
              "       [94],\n",
              "       [18],\n",
              "       [26],\n",
              "       [83]])"
            ]
          },
          "metadata": {},
          "execution_count": 34
        }
      ]
    },
    {
      "cell_type": "code",
      "source": [
        "np.random.randint(10, 100, size=(1, 5)) #행 벡터"
      ],
      "metadata": {
        "colab": {
          "base_uri": "https://localhost:8080/"
        },
        "id": "i300OyCK_YiQ",
        "outputId": "5ec504f5-69b3-4bb5-8e31-62a870d5cd89"
      },
      "execution_count": null,
      "outputs": [
        {
          "output_type": "execute_result",
          "data": {
            "text/plain": [
              "array([[22, 70, 55, 47, 88]])"
            ]
          },
          "metadata": {},
          "execution_count": 35
        }
      ]
    },
    {
      "cell_type": "code",
      "source": [
        "arr1 = np.array([1, 2, 3, 4, 5])\n",
        "arr2 = np.array([[1],\n",
        "                 [2],\n",
        "                 [3],\n",
        "                 [4],\n",
        "                 [5]])\n",
        "# 벡터로는 같지만 배열로 봤을 떄는 다른 거임"
      ],
      "metadata": {
        "id": "chap1ToY_5GM"
      },
      "execution_count": null,
      "outputs": []
    },
    {
      "cell_type": "code",
      "source": [
        "arr1"
      ],
      "metadata": {
        "colab": {
          "base_uri": "https://localhost:8080/"
        },
        "id": "hYvzmqrBASna",
        "outputId": "76913024-1094-4fc2-b43f-73d311caf5e2"
      },
      "execution_count": null,
      "outputs": [
        {
          "output_type": "execute_result",
          "data": {
            "text/plain": [
              "array([1, 2, 3, 4, 5])"
            ]
          },
          "metadata": {},
          "execution_count": 37
        }
      ]
    },
    {
      "cell_type": "code",
      "source": [
        "arr2"
      ],
      "metadata": {
        "colab": {
          "base_uri": "https://localhost:8080/"
        },
        "id": "VEyhKOFVAS-2",
        "outputId": "0ad26a80-0c10-42e8-a21d-d51173dc871b"
      },
      "execution_count": null,
      "outputs": [
        {
          "output_type": "execute_result",
          "data": {
            "text/plain": [
              "array([[1],\n",
              "       [2],\n",
              "       [3],\n",
              "       [4],\n",
              "       [5]])"
            ]
          },
          "metadata": {},
          "execution_count": 38
        }
      ]
    },
    {
      "cell_type": "markdown",
      "source": [
        "arr1과 arr2는 같은 배열까요? `No`\n",
        "  * arr1은 1차원 배열, arr2는 2차원 배열\n",
        "\n",
        "arr1과 arr2는 같은 **벡터**일까요? `Yes`\n",
        "  * arr1은 numpy에서는 행벡터의 모양을 하고 있지만 실제로는 열벡터이다.\n",
        "  * arr2는 열의 수가 1개의 열벡터의 모양을 하고 있다.\n",
        "\n",
        "대부분의 머신러닝 라이브러리는 기본적인 데이터 취급을 열벡터로 하기 때문에 2차원 배열 이상부터 취급이 가능\n"
      ],
      "metadata": {
        "id": "JnKeHqk7ATUA"
      }
    },
    {
      "cell_type": "markdown",
      "source": [
        "# axis 이해하기\n",
        "axis : 축. 축이란? 데이터가 추가되는 방향의 **인덱스**\n",
        "\n",
        "예를 들어 3차원 배열 (3, 4, 5)\n",
        "  * 3차원 배열에 추가되는건 2차원 배열 -> `axis : 0`\n",
        "  * 2차원 배열에 추가되는건 1차원 배열 -> `axis : 1`\n",
        "  * 1차원 배열에 추가되는건 0차원 스칼라 -> `axis : 2`\n"
      ],
      "metadata": {
        "id": "0crS51cCAwx4"
      }
    },
    {
      "cell_type": "code",
      "source": [
        "arr = np.arange(1, 37).reshape(3, 4, 3)\n",
        "arr"
      ],
      "metadata": {
        "colab": {
          "base_uri": "https://localhost:8080/"
        },
        "id": "mJ1wtweGBHt9",
        "outputId": "0ef686dc-4ef4-4d7b-ec85-7807c4f403ee"
      },
      "execution_count": null,
      "outputs": [
        {
          "output_type": "execute_result",
          "data": {
            "text/plain": [
              "array([[[ 1,  2,  3],\n",
              "        [ 4,  5,  6],\n",
              "        [ 7,  8,  9],\n",
              "        [10, 11, 12]],\n",
              "\n",
              "       [[13, 14, 15],\n",
              "        [16, 17, 18],\n",
              "        [19, 20, 21],\n",
              "        [22, 23, 24]],\n",
              "\n",
              "       [[25, 26, 27],\n",
              "        [28, 29, 30],\n",
              "        [31, 32, 33],\n",
              "        [34, 35, 36]]])"
            ]
          },
          "metadata": {},
          "execution_count": 39
        }
      ]
    },
    {
      "cell_type": "code",
      "source": [
        "np.max(arr, axis=0) # 3차원 안에있는 2차원 배열끼리 비교하기 때문에"
      ],
      "metadata": {
        "colab": {
          "base_uri": "https://localhost:8080/"
        },
        "id": "epEuWKWIDPRH",
        "outputId": "8e21e99b-a3c2-4795-c862-4b811f87d09c"
      },
      "execution_count": null,
      "outputs": [
        {
          "output_type": "execute_result",
          "data": {
            "text/plain": [
              "array([[25, 26, 27],\n",
              "       [28, 29, 30],\n",
              "       [31, 32, 33],\n",
              "       [34, 35, 36]])"
            ]
          },
          "metadata": {},
          "execution_count": 40
        }
      ]
    },
    {
      "cell_type": "code",
      "source": [
        "np.max(arr, axis=1) # 2차원 안에 있는 1차원 배열끼리 비교하기 때문에"
      ],
      "metadata": {
        "colab": {
          "base_uri": "https://localhost:8080/"
        },
        "id": "HAK_eCRsENVZ",
        "outputId": "c29df132-9b61-421f-a359-8a69d16a1e79"
      },
      "execution_count": null,
      "outputs": [
        {
          "output_type": "execute_result",
          "data": {
            "text/plain": [
              "array([[10, 11, 12],\n",
              "       [22, 23, 24],\n",
              "       [34, 35, 36]])"
            ]
          },
          "metadata": {},
          "execution_count": 41
        }
      ]
    },
    {
      "cell_type": "code",
      "source": [
        "np.max(arr, axis=2) # 1차원 안에 있는 스칼라끼리 비교하기 때문에"
      ],
      "metadata": {
        "colab": {
          "base_uri": "https://localhost:8080/"
        },
        "id": "FhSNjm6FElQ_",
        "outputId": "d4e52d9b-acb0-4e74-d63a-846451d9100c"
      },
      "execution_count": null,
      "outputs": [
        {
          "output_type": "execute_result",
          "data": {
            "text/plain": [
              "array([[ 3,  6,  9, 12],\n",
              "       [15, 18, 21, 24],\n",
              "       [27, 30, 33, 36]])"
            ]
          },
          "metadata": {},
          "execution_count": 42
        }
      ]
    },
    {
      "cell_type": "markdown",
      "source": [
        "# 인덱스, 슬라이싱"
      ],
      "metadata": {
        "id": "pMyfrM9nE3d4"
      }
    },
    {
      "cell_type": "code",
      "source": [
        "arr = np.arange(1, 11).reshape(2, 5)\n",
        "arr"
      ],
      "metadata": {
        "colab": {
          "base_uri": "https://localhost:8080/"
        },
        "id": "L4uT9NVCYR8l",
        "outputId": "98179428-2cc0-424d-9ff3-e20b37089978"
      },
      "execution_count": null,
      "outputs": [
        {
          "output_type": "execute_result",
          "data": {
            "text/plain": [
              "array([[ 1,  2,  3,  4,  5],\n",
              "       [ 6,  7,  8,  9, 10]])"
            ]
          },
          "metadata": {},
          "execution_count": 43
        }
      ]
    },
    {
      "cell_type": "code",
      "source": [
        "arr[0] # []가 한 번쓰여질 때마다 배열이 낮아지게 됨 0번째의 1차원 배열이 되게 됨"
      ],
      "metadata": {
        "colab": {
          "base_uri": "https://localhost:8080/"
        },
        "id": "yZSNVVPeYWjn",
        "outputId": "c7c029b6-bce0-4e87-f859-b448339ecd33"
      },
      "execution_count": null,
      "outputs": [
        {
          "output_type": "execute_result",
          "data": {
            "text/plain": [
              "array([1, 2, 3, 4, 5])"
            ]
          },
          "metadata": {},
          "execution_count": 44
        }
      ]
    },
    {
      "cell_type": "code",
      "source": [
        "arr[0][2] # 0번째 1차원 배열의 인덱스2인 3이 나오게 됨"
      ],
      "metadata": {
        "colab": {
          "base_uri": "https://localhost:8080/"
        },
        "id": "ZC7JQrS4Y2AT",
        "outputId": "57b1271c-585d-4491-de5e-71c45c3dbefd"
      },
      "execution_count": null,
      "outputs": [
        {
          "output_type": "execute_result",
          "data": {
            "text/plain": [
              "3"
            ]
          },
          "metadata": {},
          "execution_count": 45
        }
      ]
    },
    {
      "cell_type": "code",
      "source": [
        "arr[0, 2] # arr[0][2]"
      ],
      "metadata": {
        "colab": {
          "base_uri": "https://localhost:8080/"
        },
        "id": "Coh8TY_BY-5W",
        "outputId": "93715f5c-a14d-4bde-b8f3-c67041c253a0"
      },
      "execution_count": null,
      "outputs": [
        {
          "output_type": "execute_result",
          "data": {
            "text/plain": [
              "3"
            ]
          },
          "metadata": {},
          "execution_count": 46
        }
      ]
    },
    {
      "cell_type": "code",
      "source": [
        "# 슬라이싱\n",
        "arr[:] # 전체를 의미하는 거니까 그대로 복사하게 되는 거 1차원 배열 전체라고 생각하면 됨"
      ],
      "metadata": {
        "colab": {
          "base_uri": "https://localhost:8080/"
        },
        "id": "U-RlhRTyZQ5s",
        "outputId": "7f57efa6-4eb8-4816-cdf5-3e94529c1cbc"
      },
      "execution_count": null,
      "outputs": [
        {
          "output_type": "execute_result",
          "data": {
            "text/plain": [
              "array([[ 1,  2,  3,  4,  5],\n",
              "       [ 6,  7,  8,  9, 10]])"
            ]
          },
          "metadata": {},
          "execution_count": 47
        }
      ]
    },
    {
      "cell_type": "code",
      "source": [
        "arr[:,2] # 1차원의 전체를 선택하고 그 상태에서 0차원의 2번째를 보여달라"
      ],
      "metadata": {
        "colab": {
          "base_uri": "https://localhost:8080/"
        },
        "id": "PiEomRC3ZzJO",
        "outputId": "efd9ca84-b6fd-4d10-c950-113af5aa963e"
      },
      "execution_count": null,
      "outputs": [
        {
          "output_type": "execute_result",
          "data": {
            "text/plain": [
              "array([3, 8])"
            ]
          },
          "metadata": {},
          "execution_count": 48
        }
      ]
    },
    {
      "cell_type": "code",
      "source": [
        "arr = np.arange(1, 37).reshape(3, 4, 3)\n",
        "arr"
      ],
      "metadata": {
        "colab": {
          "base_uri": "https://localhost:8080/"
        },
        "id": "GzqAkinfaDsG",
        "outputId": "049c4a21-92dc-4f57-b76c-49269484b30e"
      },
      "execution_count": null,
      "outputs": [
        {
          "output_type": "execute_result",
          "data": {
            "text/plain": [
              "array([[[ 1,  2,  3],\n",
              "        [ 4,  5,  6],\n",
              "        [ 7,  8,  9],\n",
              "        [10, 11, 12]],\n",
              "\n",
              "       [[13, 14, 15],\n",
              "        [16, 17, 18],\n",
              "        [19, 20, 21],\n",
              "        [22, 23, 24]],\n",
              "\n",
              "       [[25, 26, 27],\n",
              "        [28, 29, 30],\n",
              "        [31, 32, 33],\n",
              "        [34, 35, 36]]])"
            ]
          },
          "metadata": {},
          "execution_count": 49
        }
      ]
    },
    {
      "cell_type": "code",
      "source": [
        "arr[1, 1:3]"
      ],
      "metadata": {
        "colab": {
          "base_uri": "https://localhost:8080/"
        },
        "id": "Kzz3g555aM4i",
        "outputId": "c52da9f5-9048-447e-ad4e-d59e2dd91059"
      },
      "execution_count": null,
      "outputs": [
        {
          "output_type": "execute_result",
          "data": {
            "text/plain": [
              "array([[16, 17, 18],\n",
              "       [19, 20, 21]])"
            ]
          },
          "metadata": {},
          "execution_count": 50
        }
      ]
    },
    {
      "cell_type": "code",
      "source": [
        "arr[:, 1:3, :2]"
      ],
      "metadata": {
        "colab": {
          "base_uri": "https://localhost:8080/"
        },
        "id": "T6Ongl3Aa6OU",
        "outputId": "5d0231df-bbf3-4c5c-9f2b-9a2364bfb59a"
      },
      "execution_count": null,
      "outputs": [
        {
          "output_type": "execute_result",
          "data": {
            "text/plain": [
              "array([[[ 4,  5],\n",
              "        [ 7,  8]],\n",
              "\n",
              "       [[16, 17],\n",
              "        [19, 20]],\n",
              "\n",
              "       [[28, 29],\n",
              "        [31, 32]]])"
            ]
          },
          "metadata": {},
          "execution_count": 51
        }
      ]
    },
    {
      "cell_type": "code",
      "source": [
        "# Fancy Indexing\n",
        "arr = np.arange(24).reshape(4, 3, 2)\n",
        "arr"
      ],
      "metadata": {
        "colab": {
          "base_uri": "https://localhost:8080/"
        },
        "id": "N9VEP7s_blbi",
        "outputId": "f4683e9e-8412-4402-f7c3-26abd153a901"
      },
      "execution_count": null,
      "outputs": [
        {
          "output_type": "execute_result",
          "data": {
            "text/plain": [
              "array([[[ 0,  1],\n",
              "        [ 2,  3],\n",
              "        [ 4,  5]],\n",
              "\n",
              "       [[ 6,  7],\n",
              "        [ 8,  9],\n",
              "        [10, 11]],\n",
              "\n",
              "       [[12, 13],\n",
              "        [14, 15],\n",
              "        [16, 17]],\n",
              "\n",
              "       [[18, 19],\n",
              "        [20, 21],\n",
              "        [22, 23]]])"
            ]
          },
          "metadata": {},
          "execution_count": 54
        }
      ]
    },
    {
      "cell_type": "code",
      "source": [
        "# Fancy Indexing : 인덱스를 리스트로 여러 개 지정해서 추출하는 방법\n",
        "\n",
        "indices = [0, 3]\n",
        "arr[indices]"
      ],
      "metadata": {
        "colab": {
          "base_uri": "https://localhost:8080/"
        },
        "id": "lfQSbaNYbvuv",
        "outputId": "f6123e27-f6bf-4e35-bd1d-82b5f9cb0a52"
      },
      "execution_count": null,
      "outputs": [
        {
          "output_type": "execute_result",
          "data": {
            "text/plain": [
              "array([[[ 0,  1],\n",
              "        [ 2,  3],\n",
              "        [ 4,  5]],\n",
              "\n",
              "       [[18, 19],\n",
              "        [20, 21],\n",
              "        [22, 23]]])"
            ]
          },
          "metadata": {},
          "execution_count": 56
        }
      ]
    },
    {
      "cell_type": "code",
      "source": [
        "# Spread 연산자\n",
        "arr = np.arange(36).reshape(2, 3, 3, 2)\n",
        "arr"
      ],
      "metadata": {
        "colab": {
          "base_uri": "https://localhost:8080/"
        },
        "id": "Bn2lc3fycJCi",
        "outputId": "f657446e-159d-4108-f57f-ff5c7d8aac85"
      },
      "execution_count": null,
      "outputs": [
        {
          "output_type": "execute_result",
          "data": {
            "text/plain": [
              "array([[[[ 0,  1],\n",
              "         [ 2,  3],\n",
              "         [ 4,  5]],\n",
              "\n",
              "        [[ 6,  7],\n",
              "         [ 8,  9],\n",
              "         [10, 11]],\n",
              "\n",
              "        [[12, 13],\n",
              "         [14, 15],\n",
              "         [16, 17]]],\n",
              "\n",
              "\n",
              "       [[[18, 19],\n",
              "         [20, 21],\n",
              "         [22, 23]],\n",
              "\n",
              "        [[24, 25],\n",
              "         [26, 27],\n",
              "         [28, 29]],\n",
              "\n",
              "        [[30, 31],\n",
              "         [32, 33],\n",
              "         [34, 35]]]])"
            ]
          },
          "metadata": {},
          "execution_count": 57
        }
      ]
    },
    {
      "cell_type": "code",
      "source": [
        "arr[0, :, :, 0]"
      ],
      "metadata": {
        "colab": {
          "base_uri": "https://localhost:8080/"
        },
        "id": "gGedIhM-cscK",
        "outputId": "63c6677d-a1b7-41ee-b7d4-7133125d6c3f"
      },
      "execution_count": null,
      "outputs": [
        {
          "output_type": "execute_result",
          "data": {
            "text/plain": [
              "array([[ 0,  2,  4],\n",
              "       [ 6,  8, 10],\n",
              "       [12, 14, 16]])"
            ]
          },
          "metadata": {},
          "execution_count": 58
        }
      ]
    },
    {
      "cell_type": "code",
      "source": [
        "arr[0, ..., 0]"
      ],
      "metadata": {
        "colab": {
          "base_uri": "https://localhost:8080/"
        },
        "id": "7twS4Ml7dMg8",
        "outputId": "24efc2f6-ace8-48bb-bc78-20be75c59d77"
      },
      "execution_count": null,
      "outputs": [
        {
          "output_type": "execute_result",
          "data": {
            "text/plain": [
              "array([[ 0,  2,  4],\n",
              "       [ 6,  8, 10],\n",
              "       [12, 14, 16]])"
            ]
          },
          "metadata": {},
          "execution_count": 59
        }
      ]
    },
    {
      "cell_type": "markdown",
      "source": [
        "보통 이미지 데이터를 딥러닝에서 사용하고자 할 때 : `(N, H, W, C)`\n",
        "* `N` : 이미지의 개수\n",
        "* `H` : 세로 픽셀의 개수\n",
        "* `W` : 가로 픽셀의 개수\n",
        "* `C` : 채널수 (컬러 RGB : 3, 흑백 GRAYSCALE : 1)"
      ],
      "metadata": {
        "id": "i3sgbrg7ddKB"
      }
    },
    {
      "cell_type": "code",
      "source": [
        "# 예를 들어 가지고 온 이미지 데이터의 모양이 (60000, 28, 28, 1)\n",
        "#  이미지가 60,000장이 있다.\n",
        "#  이미지의 세로 크기는 28px\n",
        "#  이미지의 가로 크기는 28px\n",
        "#  이미지의 채널은 1채널(grayscale)\n",
        "\n",
        "# 한장의 흑백 이미지를 그릴 때 필요한 정보는 단순하게 세로, 가로 픽셀의 정보만 있으면 된다.\n",
        "# images[0, ..., 0] -> ( 28, 28 )"
      ],
      "metadata": {
        "id": "HIkPSteLdrYK"
      },
      "execution_count": null,
      "outputs": []
    },
    {
      "cell_type": "markdown",
      "source": [
        "# 배열의 차원(dim)과 형상(shape)"
      ],
      "metadata": {
        "id": "nGsyHIKsfLEv"
      }
    },
    {
      "cell_type": "code",
      "source": [
        "# 형상(shape)\n",
        "arr = np.arange(12).reshape(3, 4)\n",
        "arr"
      ],
      "metadata": {
        "colab": {
          "base_uri": "https://localhost:8080/"
        },
        "id": "WLwdUjE2sLE-",
        "outputId": "81aa7526-6ecb-48b2-849a-ce9f72f2c2ae"
      },
      "execution_count": null,
      "outputs": [
        {
          "output_type": "execute_result",
          "data": {
            "text/plain": [
              "array([[ 0,  1,  2,  3],\n",
              "       [ 4,  5,  6,  7],\n",
              "       [ 8,  9, 10, 11]])"
            ]
          },
          "metadata": {},
          "execution_count": 62
        }
      ]
    },
    {
      "cell_type": "code",
      "source": [
        "arr.shape"
      ],
      "metadata": {
        "colab": {
          "base_uri": "https://localhost:8080/"
        },
        "id": "x-TXLhhGsaSU",
        "outputId": "b2dd9bc2-eff5-4b34-cae9-2312a50d776f"
      },
      "execution_count": null,
      "outputs": [
        {
          "output_type": "execute_result",
          "data": {
            "text/plain": [
              "(3, 4)"
            ]
          },
          "metadata": {},
          "execution_count": 63
        }
      ]
    },
    {
      "cell_type": "code",
      "source": [
        "# 배열의 차원을 알아보기\n",
        "arr.ndim"
      ],
      "metadata": {
        "colab": {
          "base_uri": "https://localhost:8080/"
        },
        "id": "uHyWI_EqsoYv",
        "outputId": "8cfaa9a4-84f9-4049-8416-a592b677ed24"
      },
      "execution_count": null,
      "outputs": [
        {
          "output_type": "execute_result",
          "data": {
            "text/plain": [
              "2"
            ]
          },
          "metadata": {},
          "execution_count": 64
        }
      ]
    },
    {
      "cell_type": "code",
      "source": [
        "# 배열이 가지고 있는 모든 스칼라의 개수\n",
        "arr.size"
      ],
      "metadata": {
        "colab": {
          "base_uri": "https://localhost:8080/"
        },
        "id": "VpyPEuAhs8v-",
        "outputId": "378b8fb3-ff7f-440c-b673-1178cc85f981"
      },
      "execution_count": null,
      "outputs": [
        {
          "output_type": "execute_result",
          "data": {
            "text/plain": [
              "12"
            ]
          },
          "metadata": {},
          "execution_count": 65
        }
      ]
    },
    {
      "cell_type": "markdown",
      "source": [
        "## 차원 수 확장하기"
      ],
      "metadata": {
        "id": "iI90okcAtAnM"
      }
    },
    {
      "cell_type": "code",
      "source": [
        "arr = np.random.rand(3, 3)\n",
        "arr.shape"
      ],
      "metadata": {
        "colab": {
          "base_uri": "https://localhost:8080/"
        },
        "id": "0ffwkLjVtPWo",
        "outputId": "5a71e553-d63c-43f6-c42f-15c3768e034e"
      },
      "execution_count": null,
      "outputs": [
        {
          "output_type": "execute_result",
          "data": {
            "text/plain": [
              "(3, 3)"
            ]
          },
          "metadata": {},
          "execution_count": 66
        }
      ]
    },
    {
      "cell_type": "code",
      "source": [
        "# 확장되는 차원은 무조건 1을 가짐\n",
        "arr[np.newaxis, :, :, np.newaxis].shape"
      ],
      "metadata": {
        "colab": {
          "base_uri": "https://localhost:8080/"
        },
        "id": "_tO-k1OktUi0",
        "outputId": "08d33d55-bb22-4050-b9dc-8c2516843b8e"
      },
      "execution_count": null,
      "outputs": [
        {
          "output_type": "execute_result",
          "data": {
            "text/plain": [
              "(1, 3, 3, 1)"
            ]
          },
          "metadata": {},
          "execution_count": 67
        }
      ]
    },
    {
      "cell_type": "code",
      "source": [
        "# 가지고 있는 정보는 h, w(28x28)밖에 없어도 훈련을 할 때는 (n, c, h, w)로 훈련을 해야 함\n",
        "# 28x28의 이미지를 그대로 쓰는 것이 아니라 (1, 1, 28, 28)로 바꿔서 사용해야한다.\n",
        "# 이때 형식을 맞춰야할 때 차원 확장을 사용하게 되는 것\n",
        "# 차원확장은 예측할 때 사용하면 됨"
      ],
      "metadata": {
        "id": "kvrOIxRAI2Qv"
      },
      "execution_count": null,
      "outputs": []
    },
    {
      "cell_type": "markdown",
      "source": [
        "## 차원 쥐어 짜기\n"
      ],
      "metadata": {
        "id": "RrCrIYRytkrZ"
      }
    },
    {
      "cell_type": "code",
      "source": [
        "arr = np.random.rand(1, 3, 3, 1)\n",
        "arr.shape"
      ],
      "metadata": {
        "colab": {
          "base_uri": "https://localhost:8080/"
        },
        "id": "8MdBhTn0varB",
        "outputId": "8ac78756-e72d-421f-82fd-6b68f00456b7"
      },
      "execution_count": null,
      "outputs": [
        {
          "output_type": "execute_result",
          "data": {
            "text/plain": [
              "(1, 3, 3, 1)"
            ]
          },
          "metadata": {},
          "execution_count": 68
        }
      ]
    },
    {
      "cell_type": "code",
      "source": [
        "arr_squeeze = np.squeeze(arr)\n",
        "arr_squeeze.shape # 필요없는 차원을 쥐어 짜서 실제로 모양이 있는 것만 알고 싶을 떄 스퀴즈를 사용함\n",
        "# 열과 행의 개념이 사라지기 때문에 비정형데이터가 된다. 의미가 있는 행렬은 매트릭"
      ],
      "metadata": {
        "colab": {
          "base_uri": "https://localhost:8080/"
        },
        "id": "UbiDiAxHvhdZ",
        "outputId": "9ee6564f-699c-4c9a-9865-70326f103b3a"
      },
      "execution_count": null,
      "outputs": [
        {
          "output_type": "execute_result",
          "data": {
            "text/plain": [
              "(3, 3)"
            ]
          },
          "metadata": {},
          "execution_count": 69
        }
      ]
    },
    {
      "cell_type": "markdown",
      "source": [
        "# 배열의 형상 바꾸기\n",
        "* `np.newaxis`를 활용하면 축을 하나 추가하게 된다.( 차원 수를 늘린다. )\n",
        "* `np.squeeze`를 활용하면 개수가 1인 차원의 데이터를 삭제(차원 수를 줄인다.)\n",
        "\n",
        "평탄화 : 2차원 이상의 배열을 1차원 배열로 평평하게 펴주는 것 (★★★★★)\n",
        "* `ravel` : 원본 배열을 평탄화 시킨 **참조**배열을 만들어 낸다. (이를 View 또는 Reference라고 한다.)\n",
        "* `flatten` : 원본 배열을 평탄화 시킨 **복사된**배열을 만들어 낸다.\n",
        "\n",
        "**ravel은 원본 배열에 수정이 가해질 가능성이 있고, flatten은 원본 배열에 영향을 미치지 않는다.**"
      ],
      "metadata": {
        "id": "FvEjtMUXvtds"
      }
    },
    {
      "cell_type": "code",
      "source": [
        "x = np.random.randint(15, size=(3, 5))\n",
        "x.shape"
      ],
      "metadata": {
        "colab": {
          "base_uri": "https://localhost:8080/"
        },
        "id": "biRlrNR6zIwX",
        "outputId": "7a888c2f-7db7-48eb-b369-ace0af604ea5"
      },
      "execution_count": null,
      "outputs": [
        {
          "output_type": "execute_result",
          "data": {
            "text/plain": [
              "(3, 5)"
            ]
          },
          "metadata": {},
          "execution_count": 71
        }
      ]
    },
    {
      "cell_type": "code",
      "source": [
        "x"
      ],
      "metadata": {
        "colab": {
          "base_uri": "https://localhost:8080/"
        },
        "id": "y8zwhIY7zcpG",
        "outputId": "996f3867-e3e2-41f7-97eb-5de423f891e4"
      },
      "execution_count": null,
      "outputs": [
        {
          "output_type": "execute_result",
          "data": {
            "text/plain": [
              "array([[14,  4,  9,  0,  5],\n",
              "       [ 0, 12, 14, 14,  2],\n",
              "       [ 3, 12,  2, 10,  0]])"
            ]
          },
          "metadata": {},
          "execution_count": 72
        }
      ]
    },
    {
      "cell_type": "markdown",
      "source": [
        "## ravel\n",
        "\n",
        "그림 참조해서 공부"
      ],
      "metadata": {
        "id": "lfVuqGmlzg7D"
      }
    },
    {
      "cell_type": "code",
      "source": [
        "temp = np.ravel(x) # 2차원에서 1차원이 됨 보이기에만 평탄하게 보이는 것\n",
        "temp"
      ],
      "metadata": {
        "colab": {
          "base_uri": "https://localhost:8080/"
        },
        "id": "j6PKWWB2zuxb",
        "outputId": "7f40a230-2f14-49f3-cbd6-37ed916f2455"
      },
      "execution_count": null,
      "outputs": [
        {
          "output_type": "execute_result",
          "data": {
            "text/plain": [
              "array([14,  4,  9,  0,  5,  0, 12, 14, 14,  2,  3, 12,  2, 10,  0])"
            ]
          },
          "metadata": {},
          "execution_count": 73
        }
      ]
    },
    {
      "cell_type": "code",
      "source": [
        "temp[0] = 100\n",
        "temp"
      ],
      "metadata": {
        "colab": {
          "base_uri": "https://localhost:8080/"
        },
        "id": "J_aynmVtzyBz",
        "outputId": "50e079fa-480f-49cc-bf41-1f1319affb8b"
      },
      "execution_count": null,
      "outputs": [
        {
          "output_type": "execute_result",
          "data": {
            "text/plain": [
              "array([100,   4,   9,   0,   5,   0,  12,  14,  14,   2,   3,  12,   2,\n",
              "        10,   0])"
            ]
          },
          "metadata": {},
          "execution_count": 74
        }
      ]
    },
    {
      "cell_type": "code",
      "source": [
        "x # 원본을 참조하고 있는 배열이기 때문에 원본에 변화가 일어남 원본과 서로 연결되어있기 때문에"
      ],
      "metadata": {
        "colab": {
          "base_uri": "https://localhost:8080/"
        },
        "id": "eboGH9-kz6Ok",
        "outputId": "6c40ba7f-e1c6-4e85-a03a-0e9d7f49c6fb"
      },
      "execution_count": null,
      "outputs": [
        {
          "output_type": "execute_result",
          "data": {
            "text/plain": [
              "array([[100,   4,   9,   0,   5],\n",
              "       [  0,  12,  14,  14,   2],\n",
              "       [  3,  12,   2,  10,   0]])"
            ]
          },
          "metadata": {},
          "execution_count": 75
        }
      ]
    },
    {
      "cell_type": "code",
      "source": [
        "hex(id(x)), hex(id(temp)), hex(id(temp.base)) # 진짜 모습은 x이므로 메모리 주소값을 찾을 때 temp를 보는 것이 아니라 temp의 base를 봐야함\n",
        "# 메모리 주소값이 같으면 같은 객체임\n",
        "# 원본을 실제로 바꿔버리기 때문에 ravel을 잘 쓰지 않음\n",
        "# 시각화 할 때는 사용함"
      ],
      "metadata": {
        "colab": {
          "base_uri": "https://localhost:8080/"
        },
        "id": "dD-2Kcpb0DCA",
        "outputId": "6c82cecf-74f4-4983-a971-f8f3165d8a9c"
      },
      "execution_count": null,
      "outputs": [
        {
          "output_type": "execute_result",
          "data": {
            "text/plain": [
              "('0x7f0e288a35d0', '0x7f0e288a3690', '0x7f0e288a35d0')"
            ]
          },
          "metadata": {},
          "execution_count": 77
        }
      ]
    },
    {
      "cell_type": "markdown",
      "source": [
        "## flatten"
      ],
      "metadata": {
        "id": "vQBBxsC-13L2"
      }
    },
    {
      "cell_type": "code",
      "source": [
        "x = np.random.randint(15, size=(2, 3, 2))\n",
        "x.shape"
      ],
      "metadata": {
        "colab": {
          "base_uri": "https://localhost:8080/"
        },
        "id": "kXUiJv4O2ike",
        "outputId": "130dfa72-b33c-4b87-c762-b7d7e30bed27"
      },
      "execution_count": null,
      "outputs": [
        {
          "output_type": "execute_result",
          "data": {
            "text/plain": [
              "(2, 3, 2)"
            ]
          },
          "metadata": {},
          "execution_count": 79
        }
      ]
    },
    {
      "cell_type": "code",
      "source": [
        "temp = x.flatten()\n",
        "temp"
      ],
      "metadata": {
        "colab": {
          "base_uri": "https://localhost:8080/"
        },
        "id": "74laKa042lyY",
        "outputId": "c92b78ae-a33f-4e55-eb47-83df6571a4a4"
      },
      "execution_count": null,
      "outputs": [
        {
          "output_type": "execute_result",
          "data": {
            "text/plain": [
              "array([ 9,  2,  1,  9,  6, 14,  2,  3, 12, 12,  8,  3])"
            ]
          },
          "metadata": {},
          "execution_count": 80
        }
      ]
    },
    {
      "cell_type": "code",
      "source": [
        "temp[0] = 100\n",
        "temp"
      ],
      "metadata": {
        "colab": {
          "base_uri": "https://localhost:8080/"
        },
        "id": "JzawU0Q_2u8G",
        "outputId": "87f26cd1-8d57-41c4-afb8-11bc2af51965"
      },
      "execution_count": null,
      "outputs": [
        {
          "output_type": "execute_result",
          "data": {
            "text/plain": [
              "array([100,   2,   1,   9,   6,  14,   2,   3,  12,  12,   8,   3])"
            ]
          },
          "metadata": {},
          "execution_count": 81
        }
      ]
    },
    {
      "cell_type": "code",
      "source": [
        "x # 원본은 유지하면서 실제로 평탄화된 모양의 새로운 배열이 만들어 진것\n",
        "# ravel과 flatten의 차이점 잘 알아둘 것"
      ],
      "metadata": {
        "colab": {
          "base_uri": "https://localhost:8080/"
        },
        "id": "VnPUSdKS21xi",
        "outputId": "733d759a-e83b-4fc5-8a21-2e962657424a"
      },
      "execution_count": null,
      "outputs": [
        {
          "output_type": "execute_result",
          "data": {
            "text/plain": [
              "array([[[ 9,  2],\n",
              "        [ 1,  9],\n",
              "        [ 6, 14]],\n",
              "\n",
              "       [[ 2,  3],\n",
              "        [12, 12],\n",
              "        [ 8,  3]]])"
            ]
          },
          "metadata": {},
          "execution_count": 82
        }
      ]
    },
    {
      "cell_type": "code",
      "source": [
        "hex(id(x)), hex(id(temp)), hex(id(temp.base)) # 아예 완벽한 새로운 객체가 만들어진 것"
      ],
      "metadata": {
        "colab": {
          "base_uri": "https://localhost:8080/"
        },
        "id": "d4tEVVPV22-7",
        "outputId": "0173da27-989c-4832-db99-d9cf6cdac7ef"
      },
      "execution_count": null,
      "outputs": [
        {
          "output_type": "execute_result",
          "data": {
            "text/plain": [
              "('0x7f0e288a86f0', '0x7f0e288a3f90', '0x59a441c8d3e0')"
            ]
          },
          "metadata": {},
          "execution_count": 83
        }
      ]
    },
    {
      "cell_type": "markdown",
      "source": [
        "## reshape\n",
        "- 배열의 형상을 재구성"
      ],
      "metadata": {
        "id": "FR81PJKC3Nkz"
      }
    },
    {
      "cell_type": "code",
      "source": [
        "x = np.arange(20)\n",
        "x"
      ],
      "metadata": {
        "colab": {
          "base_uri": "https://localhost:8080/"
        },
        "id": "ETGaeI963dw0",
        "outputId": "db70f445-24aa-49db-a182-5ff06fdc74e3"
      },
      "execution_count": null,
      "outputs": [
        {
          "output_type": "execute_result",
          "data": {
            "text/plain": [
              "array([ 0,  1,  2,  3,  4,  5,  6,  7,  8,  9, 10, 11, 12, 13, 14, 15, 16,\n",
              "       17, 18, 19])"
            ]
          },
          "metadata": {},
          "execution_count": 84
        }
      ]
    },
    {
      "cell_type": "markdown",
      "source": [
        "reshape 팁 : reshape 함수 내의 모든 숫자를 곱했을 때 스칼라 원소의 개수(size)와 같아야 합니다."
      ],
      "metadata": {
        "id": "457IyoCY3rIc"
      }
    },
    {
      "cell_type": "code",
      "source": [
        "x.reshape(2, 5, 2)"
      ],
      "metadata": {
        "colab": {
          "base_uri": "https://localhost:8080/"
        },
        "id": "in425f5h3zxx",
        "outputId": "53e6c8b4-50dd-44d9-9722-fe8f93b48e38"
      },
      "execution_count": null,
      "outputs": [
        {
          "output_type": "execute_result",
          "data": {
            "text/plain": [
              "array([[[ 0,  1],\n",
              "        [ 2,  3],\n",
              "        [ 4,  5],\n",
              "        [ 6,  7],\n",
              "        [ 8,  9]],\n",
              "\n",
              "       [[10, 11],\n",
              "        [12, 13],\n",
              "        [14, 15],\n",
              "        [16, 17],\n",
              "        [18, 19]]])"
            ]
          },
          "metadata": {},
          "execution_count": 85
        }
      ]
    },
    {
      "cell_type": "code",
      "source": [
        "x.reshape(3, 5, 1) # 원소의 개수가 다르기 때문에 reshape이 되지 않음"
      ],
      "metadata": {
        "colab": {
          "base_uri": "https://localhost:8080/",
          "height": 145
        },
        "id": "PBduz9hb4B86",
        "outputId": "773dc128-0f9c-4692-ec8f-25093ec24da0"
      },
      "execution_count": null,
      "outputs": [
        {
          "output_type": "error",
          "ename": "ValueError",
          "evalue": "cannot reshape array of size 20 into shape (3,5,1)",
          "traceback": [
            "\u001b[0;31m---------------------------------------------------------------------------\u001b[0m",
            "\u001b[0;31mValueError\u001b[0m                                Traceback (most recent call last)",
            "\u001b[0;32m<ipython-input-86-e26e43d0dd98>\u001b[0m in \u001b[0;36m<cell line: 1>\u001b[0;34m()\u001b[0m\n\u001b[0;32m----> 1\u001b[0;31m \u001b[0mx\u001b[0m\u001b[0;34m.\u001b[0m\u001b[0mreshape\u001b[0m\u001b[0;34m(\u001b[0m\u001b[0;36m3\u001b[0m\u001b[0;34m,\u001b[0m \u001b[0;36m5\u001b[0m\u001b[0;34m,\u001b[0m \u001b[0;36m1\u001b[0m\u001b[0;34m)\u001b[0m\u001b[0;34m\u001b[0m\u001b[0;34m\u001b[0m\u001b[0m\n\u001b[0m",
            "\u001b[0;31mValueError\u001b[0m: cannot reshape array of size 20 into shape (3,5,1)"
          ]
        }
      ]
    },
    {
      "cell_type": "markdown",
      "source": [
        "-1을 사용하면 남은 숫자를 자동으로 계산"
      ],
      "metadata": {
        "id": "SJm-MNG_4KwT"
      }
    },
    {
      "cell_type": "code",
      "source": [
        "x.reshape(2, -1, 2) # -1 위치의 값이 알아서 계산된다."
      ],
      "metadata": {
        "colab": {
          "base_uri": "https://localhost:8080/"
        },
        "id": "l-YOUeKD4VQO",
        "outputId": "562ffd3d-9e61-45ac-fab3-90355869241c"
      },
      "execution_count": null,
      "outputs": [
        {
          "output_type": "execute_result",
          "data": {
            "text/plain": [
              "array([[[ 0,  1],\n",
              "        [ 2,  3],\n",
              "        [ 4,  5],\n",
              "        [ 6,  7],\n",
              "        [ 8,  9]],\n",
              "\n",
              "       [[10, 11],\n",
              "        [12, 13],\n",
              "        [14, 15],\n",
              "        [16, 17],\n",
              "        [18, 19]]])"
            ]
          },
          "metadata": {},
          "execution_count": 87
        }
      ]
    },
    {
      "cell_type": "code",
      "source": [
        "x.reshape(2, 2, -1)"
      ],
      "metadata": {
        "colab": {
          "base_uri": "https://localhost:8080/"
        },
        "id": "6vSBD2444bUM",
        "outputId": "502d8071-e913-4615-bb20-f3f4f82c4029"
      },
      "execution_count": null,
      "outputs": [
        {
          "output_type": "execute_result",
          "data": {
            "text/plain": [
              "array([[[ 0,  1,  2,  3,  4],\n",
              "        [ 5,  6,  7,  8,  9]],\n",
              "\n",
              "       [[10, 11, 12, 13, 14],\n",
              "        [15, 16, 17, 18, 19]]])"
            ]
          },
          "metadata": {},
          "execution_count": 88
        }
      ]
    },
    {
      "cell_type": "code",
      "source": [
        "x.reshape(3, 5, -1) # 어떤 것을 곱하든 맞춰지지 않기 때문에 에러 뜸, 스칼라 값의 약수여야 함"
      ],
      "metadata": {
        "colab": {
          "base_uri": "https://localhost:8080/",
          "height": 145
        },
        "id": "7OspBNRD4fsh",
        "outputId": "3d1c57d2-c556-4e02-8ffa-8d4bf6060d62"
      },
      "execution_count": null,
      "outputs": [
        {
          "output_type": "error",
          "ename": "ValueError",
          "evalue": "cannot reshape array of size 20 into shape (3,5,newaxis)",
          "traceback": [
            "\u001b[0;31m---------------------------------------------------------------------------\u001b[0m",
            "\u001b[0;31mValueError\u001b[0m                                Traceback (most recent call last)",
            "\u001b[0;32m<ipython-input-89-f3c5aeff184a>\u001b[0m in \u001b[0;36m<cell line: 1>\u001b[0;34m()\u001b[0m\n\u001b[0;32m----> 1\u001b[0;31m \u001b[0mx\u001b[0m\u001b[0;34m.\u001b[0m\u001b[0mreshape\u001b[0m\u001b[0;34m(\u001b[0m\u001b[0;36m3\u001b[0m\u001b[0;34m,\u001b[0m \u001b[0;36m5\u001b[0m\u001b[0;34m,\u001b[0m \u001b[0;34m-\u001b[0m\u001b[0;36m1\u001b[0m\u001b[0;34m)\u001b[0m\u001b[0;34m\u001b[0m\u001b[0;34m\u001b[0m\u001b[0m\n\u001b[0m",
            "\u001b[0;31mValueError\u001b[0m: cannot reshape array of size 20 into shape (3,5,newaxis)"
          ]
        }
      ]
    },
    {
      "cell_type": "code",
      "source": [
        "x.reshape(2, -1, -1) # -1은 한번밖에 못씀 2개 이상 쓰면 에러 뜸"
      ],
      "metadata": {
        "colab": {
          "base_uri": "https://localhost:8080/",
          "height": 145
        },
        "id": "hh2Dd_tT4oqE",
        "outputId": "e86ca2fb-232a-439d-8287-95d3f3a7d48b"
      },
      "execution_count": null,
      "outputs": [
        {
          "output_type": "error",
          "ename": "ValueError",
          "evalue": "can only specify one unknown dimension",
          "traceback": [
            "\u001b[0;31m---------------------------------------------------------------------------\u001b[0m",
            "\u001b[0;31mValueError\u001b[0m                                Traceback (most recent call last)",
            "\u001b[0;32m<ipython-input-90-4e44a6058e80>\u001b[0m in \u001b[0;36m<cell line: 1>\u001b[0;34m()\u001b[0m\n\u001b[0;32m----> 1\u001b[0;31m \u001b[0mx\u001b[0m\u001b[0;34m.\u001b[0m\u001b[0mreshape\u001b[0m\u001b[0;34m(\u001b[0m\u001b[0;36m2\u001b[0m\u001b[0;34m,\u001b[0m \u001b[0;34m-\u001b[0m\u001b[0;36m1\u001b[0m\u001b[0;34m,\u001b[0m \u001b[0;34m-\u001b[0m\u001b[0;36m1\u001b[0m\u001b[0;34m)\u001b[0m\u001b[0;34m\u001b[0m\u001b[0;34m\u001b[0m\u001b[0m\n\u001b[0m",
            "\u001b[0;31mValueError\u001b[0m: can only specify one unknown dimension"
          ]
        }
      ]
    },
    {
      "cell_type": "code",
      "source": [
        "x = np.arange(36).reshape(3,4,3) # 3차원배열을 2차원으로 바꾸는 것도 가능\n",
        "x"
      ],
      "metadata": {
        "colab": {
          "base_uri": "https://localhost:8080/"
        },
        "id": "ePe_cIlb4u5d",
        "outputId": "e1cc43d3-9702-4bf6-f51b-ca9d1eee818d"
      },
      "execution_count": null,
      "outputs": [
        {
          "output_type": "execute_result",
          "data": {
            "text/plain": [
              "array([[[ 0,  1,  2],\n",
              "        [ 3,  4,  5],\n",
              "        [ 6,  7,  8],\n",
              "        [ 9, 10, 11]],\n",
              "\n",
              "       [[12, 13, 14],\n",
              "        [15, 16, 17],\n",
              "        [18, 19, 20],\n",
              "        [21, 22, 23]],\n",
              "\n",
              "       [[24, 25, 26],\n",
              "        [27, 28, 29],\n",
              "        [30, 31, 32],\n",
              "        [33, 34, 35]]])"
            ]
          },
          "metadata": {},
          "execution_count": 91
        }
      ]
    },
    {
      "cell_type": "code",
      "source": [
        "x.reshape(3, -1)"
      ],
      "metadata": {
        "colab": {
          "base_uri": "https://localhost:8080/"
        },
        "id": "PIThcASQ5Fa2",
        "outputId": "8633f491-503d-418f-eaa5-06e709d55f7d"
      },
      "execution_count": null,
      "outputs": [
        {
          "output_type": "execute_result",
          "data": {
            "text/plain": [
              "array([[ 0,  1,  2,  3,  4,  5,  6,  7,  8,  9, 10, 11],\n",
              "       [12, 13, 14, 15, 16, 17, 18, 19, 20, 21, 22, 23],\n",
              "       [24, 25, 26, 27, 28, 29, 30, 31, 32, 33, 34, 35]])"
            ]
          },
          "metadata": {},
          "execution_count": 93
        }
      ]
    },
    {
      "cell_type": "code",
      "source": [
        "x.reshape(-1) # -1만 사용해도 평탄화가 가능 함"
      ],
      "metadata": {
        "colab": {
          "base_uri": "https://localhost:8080/"
        },
        "id": "mFJLI4ij5M1a",
        "outputId": "5d5bc4bb-649f-40cd-b227-01cf20b599b5"
      },
      "execution_count": null,
      "outputs": [
        {
          "output_type": "execute_result",
          "data": {
            "text/plain": [
              "array([ 0,  1,  2,  3,  4,  5,  6,  7,  8,  9, 10, 11, 12, 13, 14, 15, 16,\n",
              "       17, 18, 19, 20, 21, 22, 23, 24, 25, 26, 27, 28, 29, 30, 31, 32, 33,\n",
              "       34, 35])"
            ]
          },
          "metadata": {},
          "execution_count": 94
        }
      ]
    },
    {
      "cell_type": "code",
      "source": [
        "x.reshape(-1, 1) # 열벡터로 만들기"
      ],
      "metadata": {
        "colab": {
          "base_uri": "https://localhost:8080/"
        },
        "id": "MSF84mSj5UkP",
        "outputId": "f4283c5e-8272-4390-ca17-b1651f42d42e"
      },
      "execution_count": null,
      "outputs": [
        {
          "output_type": "execute_result",
          "data": {
            "text/plain": [
              "array([[ 0],\n",
              "       [ 1],\n",
              "       [ 2],\n",
              "       [ 3],\n",
              "       [ 4],\n",
              "       [ 5],\n",
              "       [ 6],\n",
              "       [ 7],\n",
              "       [ 8],\n",
              "       [ 9],\n",
              "       [10],\n",
              "       [11],\n",
              "       [12],\n",
              "       [13],\n",
              "       [14],\n",
              "       [15],\n",
              "       [16],\n",
              "       [17],\n",
              "       [18],\n",
              "       [19],\n",
              "       [20],\n",
              "       [21],\n",
              "       [22],\n",
              "       [23],\n",
              "       [24],\n",
              "       [25],\n",
              "       [26],\n",
              "       [27],\n",
              "       [28],\n",
              "       [29],\n",
              "       [30],\n",
              "       [31],\n",
              "       [32],\n",
              "       [33],\n",
              "       [34],\n",
              "       [35]])"
            ]
          },
          "metadata": {},
          "execution_count": 95
        }
      ]
    },
    {
      "cell_type": "code",
      "source": [
        "x.reshape(1, -1) # 행벡터로 만들기"
      ],
      "metadata": {
        "colab": {
          "base_uri": "https://localhost:8080/"
        },
        "id": "WMMwxiQS5i4h",
        "outputId": "77c738e4-a0af-42d0-80ac-d53b556789f8"
      },
      "execution_count": null,
      "outputs": [
        {
          "output_type": "execute_result",
          "data": {
            "text/plain": [
              "array([[ 0,  1,  2,  3,  4,  5,  6,  7,  8,  9, 10, 11, 12, 13, 14, 15,\n",
              "        16, 17, 18, 19, 20, 21, 22, 23, 24, 25, 26, 27, 28, 29, 30, 31,\n",
              "        32, 33, 34, 35]])"
            ]
          },
          "metadata": {},
          "execution_count": 96
        }
      ]
    },
    {
      "cell_type": "markdown",
      "source": [
        "# 브로드캐스팅\n",
        "- 차원 수가 다른 배열끼리 연산\n",
        "* 차원이 달라도 0차원 스칼라의 개수가 똑같으면 연산이 가능\n",
        "* 저차원 배열을 고차원 배열로 **확장**\n",
        "* 수학적으로 따지게 되면, 고차원 배열의 shape과 똑같은 1벡터(ones)를 만들어서 저차원 배열과 곱한 배열을 만들어서 계산"
      ],
      "metadata": {
        "id": "V9u6qb1-5n6W"
      }
    },
    {
      "cell_type": "code",
      "source": [
        "a = np.arange(3)\n",
        "a"
      ],
      "metadata": {
        "colab": {
          "base_uri": "https://localhost:8080/"
        },
        "id": "W74QP8_J58UA",
        "outputId": "92f3b73b-b9f9-4a8c-ea44-862b4505fa40"
      },
      "execution_count": null,
      "outputs": [
        {
          "output_type": "execute_result",
          "data": {
            "text/plain": [
              "array([0, 1, 2])"
            ]
          },
          "metadata": {},
          "execution_count": 98
        }
      ]
    },
    {
      "cell_type": "code",
      "source": [
        "a + 3 # 차원이 다르기 때문에 계산이 안되어야하는 것이 맞지만 계산이 되는 이유는\n",
        "# 3이라는 숫자가 브로드캐스팅(흩뿌려져서) 모든 숫자들에 +3이 되는 것 그림참조!!"
      ],
      "metadata": {
        "colab": {
          "base_uri": "https://localhost:8080/"
        },
        "id": "dY9-NiVn6dOm",
        "outputId": "999bd0a3-bcd2-45c7-a6dd-9c127add8442"
      },
      "execution_count": null,
      "outputs": [
        {
          "output_type": "execute_result",
          "data": {
            "text/plain": [
              "array([3, 4, 5])"
            ]
          },
          "metadata": {},
          "execution_count": 99
        }
      ]
    },
    {
      "cell_type": "code",
      "source": [
        "# shape이 다를 때의 연산\n",
        "a = np.arange(12).reshape(4, 3) # (4, 3)\n",
        "b = np.arange(100, 103)         # (3, )\n",
        "c = np.arange(1000, 1004)       # (4, )\n",
        "d = b.reshape(1, 3)             # (1, 3)\n",
        "e = np.arange(0, 4).reshape(4, 1) # ( 4, 1)"
      ],
      "metadata": {
        "id": "IH045GEy6kgv"
      },
      "execution_count": null,
      "outputs": []
    },
    {
      "cell_type": "code",
      "source": [
        "a + b"
      ],
      "metadata": {
        "colab": {
          "base_uri": "https://localhost:8080/"
        },
        "id": "JMQS7Gzb8Z2e",
        "outputId": "27b3b30e-5871-40f8-87b6-293bad9f3ff7"
      },
      "execution_count": null,
      "outputs": [
        {
          "output_type": "execute_result",
          "data": {
            "text/plain": [
              "array([[100, 102, 104],\n",
              "       [103, 105, 107],\n",
              "       [106, 108, 110],\n",
              "       [109, 111, 113]])"
            ]
          },
          "metadata": {},
          "execution_count": 101
        }
      ]
    },
    {
      "cell_type": "code",
      "source": [
        "a + c # 저차원의 원소의 값(더해야할 개수)은 같아야지 가능함"
      ],
      "metadata": {
        "colab": {
          "base_uri": "https://localhost:8080/",
          "height": 145
        },
        "id": "qAJdZYrb9RfI",
        "outputId": "af8dfc64-433f-4049-ff7d-8db127e10d61"
      },
      "execution_count": null,
      "outputs": [
        {
          "output_type": "error",
          "ename": "ValueError",
          "evalue": "operands could not be broadcast together with shapes (4,3) (4,) ",
          "traceback": [
            "\u001b[0;31m---------------------------------------------------------------------------\u001b[0m",
            "\u001b[0;31mValueError\u001b[0m                                Traceback (most recent call last)",
            "\u001b[0;32m<ipython-input-102-e200917bc55f>\u001b[0m in \u001b[0;36m<cell line: 1>\u001b[0;34m()\u001b[0m\n\u001b[0;32m----> 1\u001b[0;31m \u001b[0ma\u001b[0m\u001b[0;34m+\u001b[0m\u001b[0mc\u001b[0m\u001b[0;34m\u001b[0m\u001b[0;34m\u001b[0m\u001b[0m\n\u001b[0m",
            "\u001b[0;31mValueError\u001b[0m: operands could not be broadcast together with shapes (4,3) (4,) "
          ]
        }
      ]
    },
    {
      "cell_type": "code",
      "source": [
        "a + d"
      ],
      "metadata": {
        "colab": {
          "base_uri": "https://localhost:8080/"
        },
        "id": "xNJb85Ml9vMZ",
        "outputId": "2df5b872-7cac-4813-e8f2-9356191d72b2"
      },
      "execution_count": null,
      "outputs": [
        {
          "output_type": "execute_result",
          "data": {
            "text/plain": [
              "array([[100, 102, 104],\n",
              "       [103, 105, 107],\n",
              "       [106, 108, 110],\n",
              "       [109, 111, 113]])"
            ]
          },
          "metadata": {},
          "execution_count": 103
        }
      ]
    },
    {
      "cell_type": "code",
      "source": [
        "a + e # 옆으로 브로드캐스팅(퍼지면)하면 되기 때문에 가능"
      ],
      "metadata": {
        "colab": {
          "base_uri": "https://localhost:8080/"
        },
        "id": "AwI0vYm893WV",
        "outputId": "ae3d59b2-5e67-4519-e737-3740c96e3714"
      },
      "execution_count": null,
      "outputs": [
        {
          "output_type": "execute_result",
          "data": {
            "text/plain": [
              "array([[ 0,  1,  2],\n",
              "       [ 4,  5,  6],\n",
              "       [ 8,  9, 10],\n",
              "       [12, 13, 14]])"
            ]
          },
          "metadata": {},
          "execution_count": 104
        }
      ]
    },
    {
      "cell_type": "code",
      "source": [
        "a = np.array([[1,2,3,4],\n",
        "              [5,6,7,8],\n",
        "              [9,10,11,12],\n",
        "              [13,14,15,16]])\n",
        "e = np.array([[0, 0],[1, 1],[2, 2],[3, 3]])\n",
        "\n",
        "a + e"
      ],
      "metadata": {
        "colab": {
          "base_uri": "https://localhost:8080/",
          "height": 181
        },
        "id": "iJMLNS1Z-VA9",
        "outputId": "373b0bd6-58ca-428c-eb90-3007d8a8bcc1"
      },
      "execution_count": null,
      "outputs": [
        {
          "output_type": "error",
          "ename": "ValueError",
          "evalue": "operands could not be broadcast together with shapes (4,4) (4,2) ",
          "traceback": [
            "\u001b[0;31m---------------------------------------------------------------------------\u001b[0m",
            "\u001b[0;31mValueError\u001b[0m                                Traceback (most recent call last)",
            "\u001b[0;32m<ipython-input-105-b985aaf0e6c2>\u001b[0m in \u001b[0;36m<cell line: 7>\u001b[0;34m()\u001b[0m\n\u001b[1;32m      5\u001b[0m \u001b[0me\u001b[0m \u001b[0;34m=\u001b[0m \u001b[0mnp\u001b[0m\u001b[0;34m.\u001b[0m\u001b[0marray\u001b[0m\u001b[0;34m(\u001b[0m\u001b[0;34m[\u001b[0m\u001b[0;34m[\u001b[0m\u001b[0;36m0\u001b[0m\u001b[0;34m,\u001b[0m \u001b[0;36m0\u001b[0m\u001b[0;34m]\u001b[0m\u001b[0;34m,\u001b[0m\u001b[0;34m[\u001b[0m\u001b[0;36m1\u001b[0m\u001b[0;34m,\u001b[0m \u001b[0;36m1\u001b[0m\u001b[0;34m]\u001b[0m\u001b[0;34m,\u001b[0m\u001b[0;34m[\u001b[0m\u001b[0;36m2\u001b[0m\u001b[0;34m,\u001b[0m \u001b[0;36m2\u001b[0m\u001b[0;34m]\u001b[0m\u001b[0;34m,\u001b[0m\u001b[0;34m[\u001b[0m\u001b[0;36m3\u001b[0m\u001b[0;34m,\u001b[0m \u001b[0;36m3\u001b[0m\u001b[0;34m]\u001b[0m\u001b[0;34m]\u001b[0m\u001b[0;34m)\u001b[0m\u001b[0;34m\u001b[0m\u001b[0;34m\u001b[0m\u001b[0m\n\u001b[1;32m      6\u001b[0m \u001b[0;34m\u001b[0m\u001b[0m\n\u001b[0;32m----> 7\u001b[0;31m \u001b[0ma\u001b[0m \u001b[0;34m+\u001b[0m \u001b[0me\u001b[0m\u001b[0;34m\u001b[0m\u001b[0;34m\u001b[0m\u001b[0m\n\u001b[0m",
            "\u001b[0;31mValueError\u001b[0m: operands could not be broadcast together with shapes (4,4) (4,2) "
          ]
        }
      ]
    },
    {
      "cell_type": "code",
      "source": [],
      "metadata": {
        "id": "zBhJzmfbBo7K"
      },
      "execution_count": null,
      "outputs": []
    }
  ]
}